{
 "cells": [
  {
   "cell_type": "code",
   "execution_count": 1,
   "id": "e6fca801-0df4-4de2-90ad-b873f09567d5",
   "metadata": {},
   "outputs": [],
   "source": [
    "# Importando bibliotecas\n",
    "import PyPDF2\n",
    "import re\n",
    "import pandas as pd\n"
   ]
  },
  {
   "cell_type": "code",
   "execution_count": 2,
   "id": "b44ad78c-b1fe-4898-9fa0-0d0d7dea23dc",
   "metadata": {},
   "outputs": [],
   "source": [
    "# Carrega nome das variaveis\n",
    "tabela_nome_var = pd.read_excel('../dados/auxiliares/tabela_nome_var.xlsx')\n",
    "nomes = tabela_nome_var['nomes']\n",
    "# Carrega nome das ufs\n",
    "ufs = pd.read_excel('../dados/auxiliares/uf.xlsx')\n"
   ]
  },
  {
   "cell_type": "code",
   "execution_count": 5,
   "id": "feac4276-b3bd-44ff-8119-ad2dd5859759",
   "metadata": {},
   "outputs": [],
   "source": [
    "def extrai_texto_uf(uf):\n",
    "    # Define uf em maiscula\n",
    "    uf_texto = uf.upper()\n",
    "\n",
    "    # Le pdf\n",
    "    reader = PyPDF2.PdfReader('../dados/dados_pdf/matriculas/' + uf + '.pdf')\n",
    "\n",
    "    # Une texto\n",
    "    texto = ''\n",
    "    for i in reader.pages:\n",
    "        texto += i.extract_text()\n",
    "        \n",
    "    # Dividindo o texto em linhas\n",
    "    texto_int = texto.split('\\n')\n",
    "    # Filtrando linhas que começam com o valor de uf_texto\n",
    "    texto_int = [linha for linha in texto_int if re.search(f\"^{uf_texto}\", linha)]\n",
    "    \n",
    "    # Removendo linhas que contêm a palavra 'TOTAL'\n",
    "    texto_int = [linha for linha in texto_int if not re.search('TOTAL', linha)]\n",
    "    \n",
    "    # Removendo caracteres não numéricos do início de cada linha\n",
    "    texto_int = [re.sub(\"^\\\\D+\", \"\", linha) for linha in texto_int]\n",
    "    \n",
    "    # Substituindo espaços múltiplos por um único espaço\n",
    "    texto_int = [re.sub(r'\\s+', ' ', linha) for linha in texto_int]\n",
    "    \n",
    "    # Removendo pontos\n",
    "    texto_int = [re.sub(r'\\.', '', linha) for linha in texto_int]\n",
    "    \n",
    "    # Substituindo vírgulas por pontos\n",
    "    texto_int = [re.sub(r',', '.', linha) for linha in texto_int]\n",
    "    \n",
    "    # Removendo problema com alguns string que contém rodapé/cabeçalho\n",
    "    texto_int = [re.sub(\" MATRÍCULAS.+Página [0-9] de [0-9]\", \"\", linha) for linha in texto_int]\n",
    "    texto_int = [re.sub(\"[0-9]{2}/.+Página [0-9] de [0-9]\", \"\", linha) for linha in texto_int]\n",
    "    \n",
    "    # Dividindo cada linha em palavras\n",
    "    texto_int = [linha.split() for linha in texto_int]\n",
    "    \n",
    "    # Criando um DataFrame a partir do texto_int\n",
    "    df_matriculas = pd.DataFrame(texto_int, columns = nomes)\n",
    "\n",
    "    # Retorna dados\n",
    "    return(df_matriculas)"
   ]
  },
  {
   "cell_type": "code",
   "execution_count": 6,
   "id": "a6a23c21-7eaf-48a0-a590-e4353462a3bb",
   "metadata": {},
   "outputs": [],
   "source": [
    "# Estabele dados base\n",
    "base = extrai_texto_uf('ac')\n",
    "\n",
    "# Itera sobre ufs para gerar dados de matriculas\n",
    "for i in ufs['uf'][1:]:\n",
    "    base = pd.concat([base, extrai_texto_uf(i)])"
   ]
  },
  {
   "cell_type": "code",
   "execution_count": 9,
   "id": "6e0bfcf6-e528-459e-ada1-0e5e2c3c2264",
   "metadata": {},
   "outputs": [],
   "source": [
    "# Salva dados de matriculas\n",
    "base.to_excel('../dados/matriculas.xlsx')"
   ]
  }
 ],
 "metadata": {
  "kernelspec": {
   "display_name": "Python 3 (ipykernel)",
   "language": "python",
   "name": "python3"
  },
  "language_info": {
   "codemirror_mode": {
    "name": "ipython",
    "version": 3
   },
   "file_extension": ".py",
   "mimetype": "text/x-python",
   "name": "python",
   "nbconvert_exporter": "python",
   "pygments_lexer": "ipython3",
   "version": "3.9.6"
  }
 },
 "nbformat": 4,
 "nbformat_minor": 5
}
